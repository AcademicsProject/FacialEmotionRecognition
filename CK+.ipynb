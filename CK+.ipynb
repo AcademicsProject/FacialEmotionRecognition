{
  "nbformat": 4,
  "nbformat_minor": 0,
  "metadata": {
    "colab": {
      "name": "CK+.ipynb",
      "provenance": [],
      "mount_file_id": "18_yMJ64jS2H86Z6QzyYTCZ6xzwyfFsyy",
      "authorship_tag": "ABX9TyOcJegbBXYFZ9mexPjtl+ZM",
      "include_colab_link": true
    },
    "kernelspec": {
      "name": "python3",
      "display_name": "Python 3"
    },
    "accelerator": "GPU"
  },
  "cells": [
    {
      "cell_type": "markdown",
      "metadata": {
        "id": "view-in-github",
        "colab_type": "text"
      },
      "source": [
        "<a href=\"https://colab.research.google.com/github/ShivamSinghal1/FacialEmotionRecognition/blob/master/CK%2B.ipynb\" target=\"_parent\"><img src=\"https://colab.research.google.com/assets/colab-badge.svg\" alt=\"Open In Colab\"/></a>"
      ]
    },
    {
      "cell_type": "code",
      "metadata": {
        "id": "MN95rZ6r2O8B"
      },
      "source": [
        "import keras\n",
        "from keras.preprocessing.image import ImageDataGenerator\n",
        "from keras.models import Sequential , load_model\n",
        "from keras.layers import Convolution2D, Activation, BatchNormalization, MaxPooling2D, Dropout, Dense, Flatten, AveragePooling2D\n",
        "from keras.initializers import  RandomNormal\n",
        "from keras.layers import Conv2D,MaxPooling2D\n",
        "from keras.optimizers import RMSprop,SGD,Adam\n",
        "from keras.callbacks import ModelCheckpoint, TensorBoard ,EarlyStopping, ReduceLROnPlateau\n",
        "\n",
        "import numpy as np\n",
        "import pandas as pd"
      ],
      "execution_count": 6,
      "outputs": []
    },
    {
      "cell_type": "code",
      "metadata": {
        "id": "pNfkS10H28kE",
        "outputId": "fae01017-133e-434b-afaf-ed16ec4965dc",
        "colab": {
          "base_uri": "https://localhost:8080/",
          "height": 51
        }
      },
      "source": [
        "data_dir = \"/content/drive/My Drive/Dataset/CK+48\"\n",
        "datagen = ImageDataGenerator(rescale=1. / 255,\n",
        "                             shear_range=0.3,\n",
        "                             zoom_range=0.2,\n",
        "                             validation_split = 0.2,\n",
        "                             horizontal_flip=True)\n",
        "train_generator = datagen.flow_from_directory(data_dir,\n",
        "                                              target_size=(224,224),\n",
        "                                              batch_size=4,\n",
        "                                              color_mode=\"rgb\",\n",
        "                                              subset=\"training\",\n",
        "                                              class_mode='categorical')\n",
        "validation_generator = datagen.flow_from_directory(data_dir,\n",
        "                                              target_size=(224,224),\n",
        "                                              batch_size=4,\n",
        "                                              color_mode=\"rgb\",\n",
        "                                              subset=\"validation\",\n",
        "                                              class_mode='categorical')"
      ],
      "execution_count": 7,
      "outputs": [
        {
          "output_type": "stream",
          "text": [
            "Found 788 images belonging to 7 classes.\n",
            "Found 193 images belonging to 7 classes.\n"
          ],
          "name": "stdout"
        }
      ]
    },
    {
      "cell_type": "code",
      "metadata": {
        "id": "FiAcyBw2_UBw"
      },
      "source": [
        "def get_cnn_model():\n",
        "    model = Sequential()\n",
        "\n",
        "    model.add(Convolution2D(64, (3, 1), padding='same', input_shape=(224,224,3)))\n",
        "    model.add(Convolution2D(64, (1, 3), padding='same'))\n",
        "    model.add(BatchNormalization())\n",
        "    model.add(Activation('relu'))\n",
        "    model.add(MaxPooling2D(pool_size=(2, 2), strides=None, padding='same'))\n",
        "    model.add(Dropout(0.25))\n",
        "\n",
        "    model.add(Convolution2D(128, (3, 1), padding='same'))\n",
        "    model.add(Convolution2D(128, (1, 3), padding='same'))\n",
        "    model.add(BatchNormalization())\n",
        "    model.add(Activation('relu'))\n",
        "    model.add(MaxPooling2D(pool_size=(2, 2), strides=None, padding='same'))\n",
        "    model.add(Dropout(0.25))\n",
        "\n",
        "    model.add(Convolution2D(256, (3, 1), padding='same'))\n",
        "    model.add(Convolution2D(256, (1, 3), padding='same'))\n",
        "    model.add(BatchNormalization())\n",
        "    model.add(Activation('relu'))\n",
        "    model.add(MaxPooling2D(pool_size=(2, 2), strides=None, padding='same'))\n",
        "    model.add(Dropout(0.25))\n",
        "\n",
        "    model.add(Convolution2D(512, (3, 1), padding='same'))\n",
        "    model.add(Convolution2D(512, (1, 3), padding='same'))\n",
        "    model.add(BatchNormalization())\n",
        "    model.add(Activation('relu'))\n",
        "    model.add(MaxPooling2D(pool_size=(2, 2), strides=None, padding='same'))\n",
        "    model.add(Dropout(0.25))\n",
        "\n",
        "    model.add(Flatten())\n",
        "\n",
        "    model.add(Dense(512))\n",
        "    model.add(BatchNormalization())\n",
        "    model.add(Activation('relu'))\n",
        "    model.add(Dropout(0.25))\n",
        "\n",
        "    model.add(Dense(256))\n",
        "    model.add(BatchNormalization())\n",
        "    model.add(Activation('relu'))\n",
        "    model.add(Dropout(0.25))\n",
        "\n",
        "    model.add(Dense(7))\n",
        "    model.add(Activation('softmax'))\n",
        "    return model"
      ],
      "execution_count": 41,
      "outputs": []
    },
    {
      "cell_type": "code",
      "metadata": {
        "id": "51Y-miqhF2A6"
      },
      "source": [
        "model = get_cnn_model()"
      ],
      "execution_count": 42,
      "outputs": []
    },
    {
      "cell_type": "code",
      "metadata": {
        "id": "-G4V0ha6O2-d",
        "outputId": "9519674a-26cc-4118-a012-7e65f6487e15",
        "colab": {
          "base_uri": "https://localhost:8080/",
          "height": 1000
        }
      },
      "source": [
        "model.summary()"
      ],
      "execution_count": 43,
      "outputs": [
        {
          "output_type": "stream",
          "text": [
            "Model: \"sequential_4\"\n",
            "_________________________________________________________________\n",
            "Layer (type)                 Output Shape              Param #   \n",
            "=================================================================\n",
            "conv2d_8 (Conv2D)            (None, 224, 224, 64)      640       \n",
            "_________________________________________________________________\n",
            "conv2d_9 (Conv2D)            (None, 224, 224, 64)      12352     \n",
            "_________________________________________________________________\n",
            "batch_normalization_6 (Batch (None, 224, 224, 64)      256       \n",
            "_________________________________________________________________\n",
            "activation_7 (Activation)    (None, 224, 224, 64)      0         \n",
            "_________________________________________________________________\n",
            "max_pooling2d_4 (MaxPooling2 (None, 112, 112, 64)      0         \n",
            "_________________________________________________________________\n",
            "dropout_6 (Dropout)          (None, 112, 112, 64)      0         \n",
            "_________________________________________________________________\n",
            "conv2d_10 (Conv2D)           (None, 112, 112, 128)     24704     \n",
            "_________________________________________________________________\n",
            "conv2d_11 (Conv2D)           (None, 112, 112, 128)     49280     \n",
            "_________________________________________________________________\n",
            "batch_normalization_7 (Batch (None, 112, 112, 128)     512       \n",
            "_________________________________________________________________\n",
            "activation_8 (Activation)    (None, 112, 112, 128)     0         \n",
            "_________________________________________________________________\n",
            "max_pooling2d_5 (MaxPooling2 (None, 56, 56, 128)       0         \n",
            "_________________________________________________________________\n",
            "dropout_7 (Dropout)          (None, 56, 56, 128)       0         \n",
            "_________________________________________________________________\n",
            "conv2d_12 (Conv2D)           (None, 56, 56, 256)       98560     \n",
            "_________________________________________________________________\n",
            "conv2d_13 (Conv2D)           (None, 56, 56, 256)       196864    \n",
            "_________________________________________________________________\n",
            "batch_normalization_8 (Batch (None, 56, 56, 256)       1024      \n",
            "_________________________________________________________________\n",
            "activation_9 (Activation)    (None, 56, 56, 256)       0         \n",
            "_________________________________________________________________\n",
            "max_pooling2d_6 (MaxPooling2 (None, 28, 28, 256)       0         \n",
            "_________________________________________________________________\n",
            "dropout_8 (Dropout)          (None, 28, 28, 256)       0         \n",
            "_________________________________________________________________\n",
            "conv2d_14 (Conv2D)           (None, 28, 28, 512)       393728    \n",
            "_________________________________________________________________\n",
            "conv2d_15 (Conv2D)           (None, 28, 28, 512)       786944    \n",
            "_________________________________________________________________\n",
            "batch_normalization_9 (Batch (None, 28, 28, 512)       2048      \n",
            "_________________________________________________________________\n",
            "activation_10 (Activation)   (None, 28, 28, 512)       0         \n",
            "_________________________________________________________________\n",
            "max_pooling2d_7 (MaxPooling2 (None, 14, 14, 512)       0         \n",
            "_________________________________________________________________\n",
            "dropout_9 (Dropout)          (None, 14, 14, 512)       0         \n",
            "_________________________________________________________________\n",
            "flatten_1 (Flatten)          (None, 100352)            0         \n",
            "_________________________________________________________________\n",
            "dense_6 (Dense)              (None, 512)               51380736  \n",
            "_________________________________________________________________\n",
            "batch_normalization_10 (Batc (None, 512)               2048      \n",
            "_________________________________________________________________\n",
            "activation_11 (Activation)   (None, 512)               0         \n",
            "_________________________________________________________________\n",
            "dropout_10 (Dropout)         (None, 512)               0         \n",
            "_________________________________________________________________\n",
            "dense_7 (Dense)              (None, 256)               131328    \n",
            "_________________________________________________________________\n",
            "batch_normalization_11 (Batc (None, 256)               1024      \n",
            "_________________________________________________________________\n",
            "activation_12 (Activation)   (None, 256)               0         \n",
            "_________________________________________________________________\n",
            "dropout_11 (Dropout)         (None, 256)               0         \n",
            "_________________________________________________________________\n",
            "dense_8 (Dense)              (None, 7)                 1799      \n",
            "_________________________________________________________________\n",
            "activation_13 (Activation)   (None, 7)                 0         \n",
            "=================================================================\n",
            "Total params: 53,083,847\n",
            "Trainable params: 53,080,391\n",
            "Non-trainable params: 3,456\n",
            "_________________________________________________________________\n"
          ],
          "name": "stdout"
        }
      ]
    },
    {
      "cell_type": "code",
      "metadata": {
        "id": "S3byxk8VGWUc"
      },
      "source": [
        "model.compile(loss='categorical_crossentropy',\n",
        "              optimizer = Adam(lr=0.001, beta_1=0.9, beta_2=0.999, epsilon=1e-7),\n",
        "              metrics=['accuracy'])"
      ],
      "execution_count": 44,
      "outputs": []
    },
    {
      "cell_type": "code",
      "metadata": {
        "id": "-D7g1OnpHd9I",
        "outputId": "8c1ba9d4-59cc-4ecd-bca2-a45556c5a3a8",
        "colab": {
          "base_uri": "https://localhost:8080/",
          "height": 1000
        }
      },
      "source": [
        "model.compile(loss='categorical_crossentropy',\n",
        "              optimizer = Adam(lr=0.001, beta_1=0.9, beta_2=0.999, epsilon=1e-7),\n",
        "              metrics=['accuracy'])\n",
        "\n",
        "\n",
        "# Saving model each time it achieves lower loss on the validation set\n",
        "filepath='/content/drive/My Drive/Dataset/ck_vgg16.hdf5'\n",
        "checkpointer = ModelCheckpoint(filepath, monitor='val_loss', verbose=1, save_best_only=True, mode='auto')\n",
        "\n",
        "earlystop = EarlyStopping(monitor='val_loss',\n",
        "                          min_delta=0,\n",
        "                          patience=8,\n",
        "                          verbose=1,\n",
        "                          restore_best_weights=True, mode = 'auto'\n",
        "                          )\n",
        "\n",
        "reduce_lr = ReduceLROnPlateau(monitor='val_loss',\n",
        "                              factor=0.9,\n",
        "                              patience=3,\n",
        "                              verbose=1,\n",
        "                              min_delta=0.0001)\n",
        "\n",
        "\n",
        "history = model.fit(train_generator,\n",
        "                    epochs=300,\n",
        "                    validation_data=validation_generator,\n",
        "                    callbacks=[checkpointer,earlystop,reduce_lr]\n",
        "                             )\n",
        "\n",
        "pd.DataFrame(history.history).to_csv(\"/content/drive/My Drive/Dataset/ck_history.csv\")"
      ],
      "execution_count": 45,
      "outputs": [
        {
          "output_type": "stream",
          "text": [
            "Epoch 1/300\n",
            "  2/197 [..............................] - ETA: 4s - loss: 2.2315 - accuracy: 0.1250WARNING:tensorflow:Callbacks method `on_train_batch_end` is slow compared to the batch time (batch time: 0.0203s vs `on_train_batch_end` time: 0.0307s). Check your callbacks.\n",
            "197/197 [==============================] - ETA: 0s - loss: 1.7863 - accuracy: 0.3807\n",
            "Epoch 00001: val_loss improved from inf to 3.99712, saving model to /content/drive/My Drive/Dataset/ck_vgg16.hdf5\n",
            "197/197 [==============================] - 25s 127ms/step - loss: 1.7863 - accuracy: 0.3807 - val_loss: 3.9971 - val_accuracy: 0.0518\n",
            "Epoch 2/300\n",
            "197/197 [==============================] - ETA: 0s - loss: 1.4328 - accuracy: 0.4734\n",
            "Epoch 00002: val_loss improved from 3.99712 to 2.39830, saving model to /content/drive/My Drive/Dataset/ck_vgg16.hdf5\n",
            "197/197 [==============================] - 21s 107ms/step - loss: 1.4328 - accuracy: 0.4734 - val_loss: 2.3983 - val_accuracy: 0.3368\n",
            "Epoch 3/300\n",
            "197/197 [==============================] - ETA: 0s - loss: 1.1897 - accuracy: 0.5876\n",
            "Epoch 00003: val_loss improved from 2.39830 to 1.13648, saving model to /content/drive/My Drive/Dataset/ck_vgg16.hdf5\n",
            "197/197 [==============================] - 37s 188ms/step - loss: 1.1897 - accuracy: 0.5876 - val_loss: 1.1365 - val_accuracy: 0.5855\n",
            "Epoch 4/300\n",
            "197/197 [==============================] - ETA: 0s - loss: 1.0587 - accuracy: 0.6332\n",
            "Epoch 00004: val_loss improved from 1.13648 to 1.10020, saving model to /content/drive/My Drive/Dataset/ck_vgg16.hdf5\n",
            "197/197 [==============================] - 29s 147ms/step - loss: 1.0587 - accuracy: 0.6332 - val_loss: 1.1002 - val_accuracy: 0.6269\n",
            "Epoch 5/300\n",
            "197/197 [==============================] - ETA: 0s - loss: 0.9662 - accuracy: 0.6447\n",
            "Epoch 00005: val_loss did not improve from 1.10020\n",
            "197/197 [==============================] - 15s 78ms/step - loss: 0.9662 - accuracy: 0.6447 - val_loss: 1.4686 - val_accuracy: 0.5285\n",
            "Epoch 6/300\n",
            "197/197 [==============================] - ETA: 0s - loss: 0.9045 - accuracy: 0.6713\n",
            "Epoch 00006: val_loss improved from 1.10020 to 1.04310, saving model to /content/drive/My Drive/Dataset/ck_vgg16.hdf5\n",
            "197/197 [==============================] - 20s 102ms/step - loss: 0.9045 - accuracy: 0.6713 - val_loss: 1.0431 - val_accuracy: 0.6528\n",
            "Epoch 7/300\n",
            "197/197 [==============================] - ETA: 0s - loss: 0.7710 - accuracy: 0.7386\n",
            "Epoch 00007: val_loss did not improve from 1.04310\n",
            "197/197 [==============================] - 15s 78ms/step - loss: 0.7710 - accuracy: 0.7386 - val_loss: 1.0521 - val_accuracy: 0.6632\n",
            "Epoch 8/300\n",
            "197/197 [==============================] - ETA: 0s - loss: 0.7580 - accuracy: 0.7449\n",
            "Epoch 00008: val_loss improved from 1.04310 to 0.53939, saving model to /content/drive/My Drive/Dataset/ck_vgg16.hdf5\n",
            "197/197 [==============================] - 19s 99ms/step - loss: 0.7580 - accuracy: 0.7449 - val_loss: 0.5394 - val_accuracy: 0.8290\n",
            "Epoch 9/300\n",
            "197/197 [==============================] - ETA: 0s - loss: 0.7675 - accuracy: 0.7322\n",
            "Epoch 00009: val_loss did not improve from 0.53939\n",
            "197/197 [==============================] - 15s 78ms/step - loss: 0.7675 - accuracy: 0.7322 - val_loss: 0.7064 - val_accuracy: 0.7461\n",
            "Epoch 10/300\n",
            "197/197 [==============================] - ETA: 0s - loss: 0.7821 - accuracy: 0.7437\n",
            "Epoch 00010: val_loss did not improve from 0.53939\n",
            "197/197 [==============================] - 15s 75ms/step - loss: 0.7821 - accuracy: 0.7437 - val_loss: 0.7300 - val_accuracy: 0.7461\n",
            "Epoch 11/300\n",
            "197/197 [==============================] - ETA: 0s - loss: 0.6649 - accuracy: 0.7640\n",
            "Epoch 00011: val_loss did not improve from 0.53939\n",
            "\n",
            "Epoch 00011: ReduceLROnPlateau reducing learning rate to 0.0009000000427477062.\n",
            "197/197 [==============================] - 15s 74ms/step - loss: 0.6649 - accuracy: 0.7640 - val_loss: 1.2971 - val_accuracy: 0.5337\n",
            "Epoch 12/300\n",
            "197/197 [==============================] - ETA: 0s - loss: 0.6479 - accuracy: 0.7855\n",
            "Epoch 00012: val_loss did not improve from 0.53939\n",
            "197/197 [==============================] - 15s 74ms/step - loss: 0.6479 - accuracy: 0.7855 - val_loss: 0.5471 - val_accuracy: 0.8238\n",
            "Epoch 13/300\n",
            "197/197 [==============================] - ETA: 0s - loss: 0.6193 - accuracy: 0.7817\n",
            "Epoch 00013: val_loss did not improve from 0.53939\n",
            "197/197 [==============================] - 15s 74ms/step - loss: 0.6193 - accuracy: 0.7817 - val_loss: 0.6160 - val_accuracy: 0.8031\n",
            "Epoch 14/300\n",
            "197/197 [==============================] - ETA: 0s - loss: 0.5868 - accuracy: 0.7957\n",
            "Epoch 00014: val_loss did not improve from 0.53939\n",
            "\n",
            "Epoch 00014: ReduceLROnPlateau reducing learning rate to 0.0008100000384729356.\n",
            "197/197 [==============================] - 15s 74ms/step - loss: 0.5868 - accuracy: 0.7957 - val_loss: 0.6150 - val_accuracy: 0.8031\n",
            "Epoch 15/300\n",
            "197/197 [==============================] - ETA: 0s - loss: 0.5173 - accuracy: 0.8198\n",
            "Epoch 00015: val_loss improved from 0.53939 to 0.46269, saving model to /content/drive/My Drive/Dataset/ck_vgg16.hdf5\n",
            "197/197 [==============================] - 20s 104ms/step - loss: 0.5173 - accuracy: 0.8198 - val_loss: 0.4627 - val_accuracy: 0.8549\n",
            "Epoch 16/300\n",
            "197/197 [==============================] - ETA: 0s - loss: 0.5996 - accuracy: 0.7995\n",
            "Epoch 00016: val_loss did not improve from 0.46269\n",
            "197/197 [==============================] - 15s 78ms/step - loss: 0.5996 - accuracy: 0.7995 - val_loss: 0.5763 - val_accuracy: 0.8135\n",
            "Epoch 17/300\n",
            "197/197 [==============================] - ETA: 0s - loss: 0.5353 - accuracy: 0.8287\n",
            "Epoch 00017: val_loss improved from 0.46269 to 0.34484, saving model to /content/drive/My Drive/Dataset/ck_vgg16.hdf5\n",
            "197/197 [==============================] - 20s 99ms/step - loss: 0.5353 - accuracy: 0.8287 - val_loss: 0.3448 - val_accuracy: 0.8808\n",
            "Epoch 18/300\n",
            "197/197 [==============================] - ETA: 0s - loss: 0.5525 - accuracy: 0.8236\n",
            "Epoch 00018: val_loss did not improve from 0.34484\n",
            "197/197 [==============================] - 16s 80ms/step - loss: 0.5525 - accuracy: 0.8236 - val_loss: 0.4825 - val_accuracy: 0.8446\n",
            "Epoch 19/300\n",
            "197/197 [==============================] - ETA: 0s - loss: 0.5627 - accuracy: 0.8109\n",
            "Epoch 00019: val_loss did not improve from 0.34484\n",
            "197/197 [==============================] - 15s 74ms/step - loss: 0.5627 - accuracy: 0.8109 - val_loss: 0.4086 - val_accuracy: 0.8912\n",
            "Epoch 20/300\n",
            "197/197 [==============================] - ETA: 0s - loss: 0.4948 - accuracy: 0.8299\n",
            "Epoch 00020: val_loss did not improve from 0.34484\n",
            "\n",
            "Epoch 00020: ReduceLROnPlateau reducing learning rate to 0.0007290000503417104.\n",
            "197/197 [==============================] - 15s 74ms/step - loss: 0.4948 - accuracy: 0.8299 - val_loss: 0.5023 - val_accuracy: 0.8290\n",
            "Epoch 21/300\n",
            "197/197 [==============================] - ETA: 0s - loss: 0.4847 - accuracy: 0.8452\n",
            "Epoch 00021: val_loss did not improve from 0.34484\n",
            "197/197 [==============================] - 15s 74ms/step - loss: 0.4847 - accuracy: 0.8452 - val_loss: 1.1326 - val_accuracy: 0.6891\n",
            "Epoch 22/300\n",
            "197/197 [==============================] - ETA: 0s - loss: 0.4650 - accuracy: 0.8376\n",
            "Epoch 00022: val_loss did not improve from 0.34484\n",
            "197/197 [==============================] - 15s 74ms/step - loss: 0.4650 - accuracy: 0.8376 - val_loss: 0.5743 - val_accuracy: 0.8290\n",
            "Epoch 23/300\n",
            "197/197 [==============================] - ETA: 0s - loss: 0.4365 - accuracy: 0.8642\n",
            "Epoch 00023: val_loss improved from 0.34484 to 0.32927, saving model to /content/drive/My Drive/Dataset/ck_vgg16.hdf5\n",
            "197/197 [==============================] - 20s 101ms/step - loss: 0.4365 - accuracy: 0.8642 - val_loss: 0.3293 - val_accuracy: 0.9119\n",
            "Epoch 24/300\n",
            "197/197 [==============================] - ETA: 0s - loss: 0.4400 - accuracy: 0.8604\n",
            "Epoch 00024: val_loss did not improve from 0.32927\n",
            "197/197 [==============================] - 16s 81ms/step - loss: 0.4400 - accuracy: 0.8604 - val_loss: 0.4017 - val_accuracy: 0.8653\n",
            "Epoch 25/300\n",
            "197/197 [==============================] - ETA: 0s - loss: 0.4209 - accuracy: 0.8604\n",
            "Epoch 00025: val_loss did not improve from 0.32927\n",
            "197/197 [==============================] - 15s 74ms/step - loss: 0.4209 - accuracy: 0.8604 - val_loss: 0.7696 - val_accuracy: 0.7720\n",
            "Epoch 26/300\n",
            "197/197 [==============================] - ETA: 0s - loss: 0.4748 - accuracy: 0.8591\n",
            "Epoch 00026: val_loss did not improve from 0.32927\n",
            "\n",
            "Epoch 00026: ReduceLROnPlateau reducing learning rate to 0.0006561000715009868.\n",
            "197/197 [==============================] - 15s 74ms/step - loss: 0.4748 - accuracy: 0.8591 - val_loss: 0.5391 - val_accuracy: 0.7824\n",
            "Epoch 27/300\n",
            "197/197 [==============================] - ETA: 0s - loss: 0.4049 - accuracy: 0.8693\n",
            "Epoch 00027: val_loss did not improve from 0.32927\n",
            "197/197 [==============================] - 15s 74ms/step - loss: 0.4049 - accuracy: 0.8693 - val_loss: 0.3931 - val_accuracy: 0.8860\n",
            "Epoch 28/300\n",
            "197/197 [==============================] - ETA: 0s - loss: 0.3983 - accuracy: 0.8629\n",
            "Epoch 00028: val_loss did not improve from 0.32927\n",
            "197/197 [==============================] - 15s 74ms/step - loss: 0.3983 - accuracy: 0.8629 - val_loss: 0.3660 - val_accuracy: 0.8705\n",
            "Epoch 29/300\n",
            "197/197 [==============================] - ETA: 0s - loss: 0.4479 - accuracy: 0.8642\n",
            "Epoch 00029: val_loss did not improve from 0.32927\n",
            "\n",
            "Epoch 00029: ReduceLROnPlateau reducing learning rate to 0.0005904900433961303.\n",
            "197/197 [==============================] - 15s 74ms/step - loss: 0.4479 - accuracy: 0.8642 - val_loss: 0.5281 - val_accuracy: 0.8497\n",
            "Epoch 30/300\n",
            "197/197 [==============================] - ETA: 0s - loss: 0.3863 - accuracy: 0.8744\n",
            "Epoch 00030: val_loss did not improve from 0.32927\n",
            "197/197 [==============================] - 15s 75ms/step - loss: 0.3863 - accuracy: 0.8744 - val_loss: 0.5796 - val_accuracy: 0.7979\n",
            "Epoch 31/300\n",
            "197/197 [==============================] - ETA: 0s - loss: 0.3345 - accuracy: 0.8871\n",
            "Epoch 00031: val_loss improved from 0.32927 to 0.31974, saving model to /content/drive/My Drive/Dataset/ck_vgg16.hdf5\n",
            "197/197 [==============================] - 21s 105ms/step - loss: 0.3345 - accuracy: 0.8871 - val_loss: 0.3197 - val_accuracy: 0.8808\n",
            "Epoch 32/300\n",
            "197/197 [==============================] - ETA: 0s - loss: 0.3232 - accuracy: 0.8947\n",
            "Epoch 00032: val_loss did not improve from 0.31974\n",
            "197/197 [==============================] - 15s 79ms/step - loss: 0.3232 - accuracy: 0.8947 - val_loss: 0.3825 - val_accuracy: 0.9016\n",
            "Epoch 33/300\n",
            "197/197 [==============================] - ETA: 0s - loss: 0.3872 - accuracy: 0.8921\n",
            "Epoch 00033: val_loss did not improve from 0.31974\n",
            "197/197 [==============================] - 15s 74ms/step - loss: 0.3872 - accuracy: 0.8921 - val_loss: 0.7784 - val_accuracy: 0.7565\n",
            "Epoch 34/300\n",
            "197/197 [==============================] - ETA: 0s - loss: 0.4185 - accuracy: 0.8693\n",
            "Epoch 00034: val_loss did not improve from 0.31974\n",
            "\n",
            "Epoch 00034: ReduceLROnPlateau reducing learning rate to 0.0005314410547725857.\n",
            "197/197 [==============================] - 15s 74ms/step - loss: 0.4185 - accuracy: 0.8693 - val_loss: 0.6394 - val_accuracy: 0.7927\n",
            "Epoch 35/300\n",
            "197/197 [==============================] - ETA: 0s - loss: 0.3530 - accuracy: 0.8858\n",
            "Epoch 00035: val_loss improved from 0.31974 to 0.29279, saving model to /content/drive/My Drive/Dataset/ck_vgg16.hdf5\n",
            "197/197 [==============================] - 20s 102ms/step - loss: 0.3530 - accuracy: 0.8858 - val_loss: 0.2928 - val_accuracy: 0.9223\n",
            "Epoch 36/300\n",
            "197/197 [==============================] - ETA: 0s - loss: 0.2763 - accuracy: 0.9036\n",
            "Epoch 00036: val_loss did not improve from 0.29279\n",
            "197/197 [==============================] - 16s 82ms/step - loss: 0.2763 - accuracy: 0.9036 - val_loss: 0.7403 - val_accuracy: 0.8031\n",
            "Epoch 37/300\n",
            "197/197 [==============================] - ETA: 0s - loss: 0.2979 - accuracy: 0.9162\n",
            "Epoch 00037: val_loss did not improve from 0.29279\n",
            "197/197 [==============================] - 15s 74ms/step - loss: 0.2979 - accuracy: 0.9162 - val_loss: 0.3792 - val_accuracy: 0.8756\n",
            "Epoch 38/300\n",
            "197/197 [==============================] - ETA: 0s - loss: 0.2788 - accuracy: 0.8997\n",
            "Epoch 00038: val_loss did not improve from 0.29279\n",
            "\n",
            "Epoch 00038: ReduceLROnPlateau reducing learning rate to 0.00047829695977270604.\n",
            "197/197 [==============================] - 15s 75ms/step - loss: 0.2788 - accuracy: 0.8997 - val_loss: 0.4700 - val_accuracy: 0.8705\n",
            "Epoch 39/300\n",
            "197/197 [==============================] - ETA: 0s - loss: 0.3378 - accuracy: 0.9061\n",
            "Epoch 00039: val_loss improved from 0.29279 to 0.29193, saving model to /content/drive/My Drive/Dataset/ck_vgg16.hdf5\n",
            "197/197 [==============================] - 21s 106ms/step - loss: 0.3378 - accuracy: 0.9061 - val_loss: 0.2919 - val_accuracy: 0.8756\n",
            "Epoch 40/300\n",
            "197/197 [==============================] - ETA: 0s - loss: 0.2904 - accuracy: 0.9036\n",
            "Epoch 00040: val_loss did not improve from 0.29193\n",
            "197/197 [==============================] - 16s 79ms/step - loss: 0.2904 - accuracy: 0.9036 - val_loss: 0.4072 - val_accuracy: 0.8808\n",
            "Epoch 41/300\n",
            "197/197 [==============================] - ETA: 0s - loss: 0.2978 - accuracy: 0.9036\n",
            "Epoch 00041: val_loss did not improve from 0.29193\n",
            "197/197 [==============================] - 15s 74ms/step - loss: 0.2978 - accuracy: 0.9036 - val_loss: 0.7194 - val_accuracy: 0.7358\n",
            "Epoch 42/300\n",
            "197/197 [==============================] - ETA: 0s - loss: 0.2790 - accuracy: 0.9239\n",
            "Epoch 00042: val_loss improved from 0.29193 to 0.28874, saving model to /content/drive/My Drive/Dataset/ck_vgg16.hdf5\n",
            "197/197 [==============================] - 20s 103ms/step - loss: 0.2790 - accuracy: 0.9239 - val_loss: 0.2887 - val_accuracy: 0.9016\n",
            "Epoch 43/300\n",
            "197/197 [==============================] - ETA: 0s - loss: 0.2986 - accuracy: 0.9124\n",
            "Epoch 00043: val_loss did not improve from 0.28874\n",
            "197/197 [==============================] - 16s 79ms/step - loss: 0.2986 - accuracy: 0.9124 - val_loss: 0.3793 - val_accuracy: 0.8601\n",
            "Epoch 44/300\n",
            "197/197 [==============================] - ETA: 0s - loss: 0.2816 - accuracy: 0.9175\n",
            "Epoch 00044: val_loss did not improve from 0.28874\n",
            "197/197 [==============================] - 15s 74ms/step - loss: 0.2816 - accuracy: 0.9175 - val_loss: 0.3440 - val_accuracy: 0.9171\n",
            "Epoch 45/300\n",
            "197/197 [==============================] - ETA: 0s - loss: 0.2758 - accuracy: 0.9124\n",
            "Epoch 00045: val_loss did not improve from 0.28874\n",
            "\n",
            "Epoch 00045: ReduceLROnPlateau reducing learning rate to 0.0004304672533180565.\n",
            "197/197 [==============================] - 15s 74ms/step - loss: 0.2758 - accuracy: 0.9124 - val_loss: 0.3976 - val_accuracy: 0.8705\n",
            "Epoch 46/300\n",
            "197/197 [==============================] - ETA: 0s - loss: 0.2505 - accuracy: 0.9289\n",
            "Epoch 00046: val_loss improved from 0.28874 to 0.28660, saving model to /content/drive/My Drive/Dataset/ck_vgg16.hdf5\n",
            "197/197 [==============================] - 20s 102ms/step - loss: 0.2505 - accuracy: 0.9289 - val_loss: 0.2866 - val_accuracy: 0.9119\n",
            "Epoch 47/300\n",
            "197/197 [==============================] - ETA: 0s - loss: 0.3030 - accuracy: 0.9023\n",
            "Epoch 00047: val_loss improved from 0.28660 to 0.25802, saving model to /content/drive/My Drive/Dataset/ck_vgg16.hdf5\n",
            "197/197 [==============================] - 30s 154ms/step - loss: 0.3030 - accuracy: 0.9023 - val_loss: 0.2580 - val_accuracy: 0.8860\n",
            "Epoch 48/300\n",
            "197/197 [==============================] - ETA: 0s - loss: 0.2565 - accuracy: 0.9086\n",
            "Epoch 00048: val_loss did not improve from 0.25802\n",
            "197/197 [==============================] - 16s 81ms/step - loss: 0.2565 - accuracy: 0.9086 - val_loss: 0.2913 - val_accuracy: 0.9067\n",
            "Epoch 49/300\n",
            "197/197 [==============================] - ETA: 0s - loss: 0.2751 - accuracy: 0.9188\n",
            "Epoch 00049: val_loss did not improve from 0.25802\n",
            "197/197 [==============================] - 15s 75ms/step - loss: 0.2751 - accuracy: 0.9188 - val_loss: 0.3249 - val_accuracy: 0.8964\n",
            "Epoch 50/300\n",
            "197/197 [==============================] - ETA: 0s - loss: 0.1885 - accuracy: 0.9353\n",
            "Epoch 00050: val_loss did not improve from 0.25802\n",
            "\n",
            "Epoch 00050: ReduceLROnPlateau reducing learning rate to 0.00038742052274756136.\n",
            "197/197 [==============================] - 15s 74ms/step - loss: 0.1885 - accuracy: 0.9353 - val_loss: 0.4923 - val_accuracy: 0.8653\n",
            "Epoch 51/300\n",
            "197/197 [==============================] - ETA: 0s - loss: 0.2115 - accuracy: 0.9404\n",
            "Epoch 00051: val_loss did not improve from 0.25802\n",
            "197/197 [==============================] - 15s 74ms/step - loss: 0.2115 - accuracy: 0.9404 - val_loss: 0.2928 - val_accuracy: 0.8912\n",
            "Epoch 52/300\n",
            "197/197 [==============================] - ETA: 0s - loss: 0.2779 - accuracy: 0.9137\n",
            "Epoch 00052: val_loss did not improve from 0.25802\n",
            "197/197 [==============================] - 15s 74ms/step - loss: 0.2779 - accuracy: 0.9137 - val_loss: 0.5460 - val_accuracy: 0.8031\n",
            "Epoch 53/300\n",
            "197/197 [==============================] - ETA: 0s - loss: 0.2514 - accuracy: 0.9213\n",
            "Epoch 00053: val_loss did not improve from 0.25802\n",
            "\n",
            "Epoch 00053: ReduceLROnPlateau reducing learning rate to 0.0003486784757114947.\n",
            "197/197 [==============================] - 15s 74ms/step - loss: 0.2514 - accuracy: 0.9213 - val_loss: 0.4034 - val_accuracy: 0.8756\n",
            "Epoch 54/300\n",
            "197/197 [==============================] - ETA: 0s - loss: 0.1897 - accuracy: 0.9302\n",
            "Epoch 00054: val_loss did not improve from 0.25802\n",
            "197/197 [==============================] - 15s 74ms/step - loss: 0.1897 - accuracy: 0.9302 - val_loss: 0.3326 - val_accuracy: 0.8808\n",
            "Epoch 55/300\n",
            "197/197 [==============================] - ETA: 0s - loss: 0.2233 - accuracy: 0.9353\n",
            "Epoch 00055: val_loss improved from 0.25802 to 0.22509, saving model to /content/drive/My Drive/Dataset/ck_vgg16.hdf5\n",
            "197/197 [==============================] - 20s 103ms/step - loss: 0.2233 - accuracy: 0.9353 - val_loss: 0.2251 - val_accuracy: 0.9223\n",
            "Epoch 56/300\n",
            "197/197 [==============================] - ETA: 0s - loss: 0.1830 - accuracy: 0.9505\n",
            "Epoch 00056: val_loss did not improve from 0.22509\n",
            "197/197 [==============================] - 16s 79ms/step - loss: 0.1830 - accuracy: 0.9505 - val_loss: 0.3227 - val_accuracy: 0.8912\n",
            "Epoch 57/300\n",
            "197/197 [==============================] - ETA: 0s - loss: 0.1781 - accuracy: 0.9467\n",
            "Epoch 00057: val_loss did not improve from 0.22509\n",
            "197/197 [==============================] - 15s 74ms/step - loss: 0.1781 - accuracy: 0.9467 - val_loss: 0.3043 - val_accuracy: 0.8860\n",
            "Epoch 58/300\n",
            "197/197 [==============================] - ETA: 0s - loss: 0.2608 - accuracy: 0.9226\n",
            "Epoch 00058: val_loss did not improve from 0.22509\n",
            "\n",
            "Epoch 00058: ReduceLROnPlateau reducing learning rate to 0.00031381062290165574.\n",
            "197/197 [==============================] - 15s 74ms/step - loss: 0.2608 - accuracy: 0.9226 - val_loss: 0.3551 - val_accuracy: 0.8912\n",
            "Epoch 59/300\n",
            "197/197 [==============================] - ETA: 0s - loss: 0.1922 - accuracy: 0.9340\n",
            "Epoch 00059: val_loss did not improve from 0.22509\n",
            "197/197 [==============================] - 15s 74ms/step - loss: 0.1922 - accuracy: 0.9340 - val_loss: 0.2891 - val_accuracy: 0.8964\n",
            "Epoch 60/300\n",
            "197/197 [==============================] - ETA: 0s - loss: 0.1735 - accuracy: 0.9442\n",
            "Epoch 00060: val_loss did not improve from 0.22509\n",
            "197/197 [==============================] - 15s 74ms/step - loss: 0.1735 - accuracy: 0.9442 - val_loss: 0.3535 - val_accuracy: 0.8860\n",
            "Epoch 61/300\n",
            "197/197 [==============================] - ETA: 0s - loss: 0.1922 - accuracy: 0.9404\n",
            "Epoch 00061: val_loss improved from 0.22509 to 0.20754, saving model to /content/drive/My Drive/Dataset/ck_vgg16.hdf5\n",
            "197/197 [==============================] - 20s 101ms/step - loss: 0.1922 - accuracy: 0.9404 - val_loss: 0.2075 - val_accuracy: 0.9326\n",
            "Epoch 62/300\n",
            "197/197 [==============================] - ETA: 0s - loss: 0.2192 - accuracy: 0.9569\n",
            "Epoch 00062: val_loss did not improve from 0.20754\n",
            "197/197 [==============================] - 15s 78ms/step - loss: 0.2192 - accuracy: 0.9569 - val_loss: 0.3464 - val_accuracy: 0.8912\n",
            "Epoch 63/300\n",
            "197/197 [==============================] - ETA: 0s - loss: 0.1371 - accuracy: 0.9594\n",
            "Epoch 00063: val_loss did not improve from 0.20754\n",
            "197/197 [==============================] - 15s 75ms/step - loss: 0.1371 - accuracy: 0.9594 - val_loss: 0.4574 - val_accuracy: 0.8705\n",
            "Epoch 64/300\n",
            "197/197 [==============================] - ETA: 0s - loss: 0.1519 - accuracy: 0.9505\n",
            "Epoch 00064: val_loss did not improve from 0.20754\n",
            "\n",
            "Epoch 00064: ReduceLROnPlateau reducing learning rate to 0.0002824295632308349.\n",
            "197/197 [==============================] - 15s 75ms/step - loss: 0.1519 - accuracy: 0.9505 - val_loss: 0.3989 - val_accuracy: 0.8912\n",
            "Epoch 65/300\n",
            "197/197 [==============================] - ETA: 0s - loss: 0.1618 - accuracy: 0.9467\n",
            "Epoch 00065: val_loss did not improve from 0.20754\n",
            "197/197 [==============================] - 15s 74ms/step - loss: 0.1618 - accuracy: 0.9467 - val_loss: 0.2220 - val_accuracy: 0.8912\n",
            "Epoch 66/300\n",
            "197/197 [==============================] - ETA: 0s - loss: 0.2349 - accuracy: 0.9378\n",
            "Epoch 00066: val_loss improved from 0.20754 to 0.20555, saving model to /content/drive/My Drive/Dataset/ck_vgg16.hdf5\n",
            "197/197 [==============================] - 21s 108ms/step - loss: 0.2349 - accuracy: 0.9378 - val_loss: 0.2056 - val_accuracy: 0.9223\n",
            "Epoch 67/300\n",
            "197/197 [==============================] - ETA: 0s - loss: 0.1871 - accuracy: 0.9492\n",
            "Epoch 00067: val_loss improved from 0.20555 to 0.20411, saving model to /content/drive/My Drive/Dataset/ck_vgg16.hdf5\n",
            "197/197 [==============================] - 31s 156ms/step - loss: 0.1871 - accuracy: 0.9492 - val_loss: 0.2041 - val_accuracy: 0.9067\n",
            "Epoch 68/300\n",
            "197/197 [==============================] - ETA: 0s - loss: 0.1597 - accuracy: 0.9505\n",
            "Epoch 00068: val_loss did not improve from 0.20411\n",
            "197/197 [==============================] - 16s 79ms/step - loss: 0.1597 - accuracy: 0.9505 - val_loss: 0.3255 - val_accuracy: 0.8912\n",
            "Epoch 69/300\n",
            "197/197 [==============================] - ETA: 0s - loss: 0.1738 - accuracy: 0.9454\n",
            "Epoch 00069: val_loss did not improve from 0.20411\n",
            "197/197 [==============================] - 15s 75ms/step - loss: 0.1738 - accuracy: 0.9454 - val_loss: 0.2625 - val_accuracy: 0.9171\n",
            "Epoch 70/300\n",
            "197/197 [==============================] - ETA: 0s - loss: 0.1637 - accuracy: 0.9480\n",
            "Epoch 00070: val_loss did not improve from 0.20411\n",
            "\n",
            "Epoch 00070: ReduceLROnPlateau reducing learning rate to 0.00025418660952709616.\n",
            "197/197 [==============================] - 15s 74ms/step - loss: 0.1637 - accuracy: 0.9480 - val_loss: 0.2374 - val_accuracy: 0.9223\n",
            "Epoch 71/300\n",
            "197/197 [==============================] - ETA: 0s - loss: 0.1612 - accuracy: 0.9518\n",
            "Epoch 00071: val_loss did not improve from 0.20411\n",
            "197/197 [==============================] - 15s 74ms/step - loss: 0.1612 - accuracy: 0.9518 - val_loss: 0.2755 - val_accuracy: 0.9016\n",
            "Epoch 72/300\n",
            "197/197 [==============================] - ETA: 0s - loss: 0.1401 - accuracy: 0.9556\n",
            "Epoch 00072: val_loss did not improve from 0.20411\n",
            "197/197 [==============================] - 15s 74ms/step - loss: 0.1401 - accuracy: 0.9556 - val_loss: 0.3208 - val_accuracy: 0.9016\n",
            "Epoch 73/300\n",
            "197/197 [==============================] - ETA: 0s - loss: 0.1594 - accuracy: 0.9454\n",
            "Epoch 00073: val_loss did not improve from 0.20411\n",
            "\n",
            "Epoch 00073: ReduceLROnPlateau reducing learning rate to 0.00022876793809700757.\n",
            "197/197 [==============================] - 15s 74ms/step - loss: 0.1594 - accuracy: 0.9454 - val_loss: 0.3708 - val_accuracy: 0.8394\n",
            "Epoch 74/300\n",
            "197/197 [==============================] - ETA: 0s - loss: 0.1401 - accuracy: 0.9619\n",
            "Epoch 00074: val_loss did not improve from 0.20411\n",
            "197/197 [==============================] - 15s 75ms/step - loss: 0.1401 - accuracy: 0.9619 - val_loss: 0.2561 - val_accuracy: 0.8912\n",
            "Epoch 75/300\n",
            "197/197 [==============================] - ETA: 0s - loss: 0.1658 - accuracy: 0.9505\n",
            "Epoch 00075: val_loss did not improve from 0.20411\n",
            "Restoring model weights from the end of the best epoch.\n",
            "197/197 [==============================] - 15s 75ms/step - loss: 0.1658 - accuracy: 0.9505 - val_loss: 0.2701 - val_accuracy: 0.8964\n",
            "Epoch 00075: early stopping\n"
          ],
          "name": "stdout"
        }
      ]
    },
    {
      "cell_type": "code",
      "metadata": {
        "id": "THYKAJEtLMIm",
        "outputId": "d5bfbcaf-d8c1-4437-c5d8-90eb7c41c64e",
        "colab": {
          "base_uri": "https://localhost:8080/",
          "height": 297
        }
      },
      "source": [
        "import matplotlib.pyplot as plt\n",
        "\n",
        "fig = plt.figure()\n",
        "plt.subplot(2,1,1)\n",
        "plt.plot(history.history['accuracy'])\n",
        "plt.plot(history.history['val_accuracy'])\n",
        "plt.title('model accuracy')\n",
        "plt.ylabel('accuracy')\n",
        "plt.xlabel('epoch')\n",
        "plt.legend(['train', 'test'], loc='lower right')\n",
        "\n",
        "plt.subplot(2,1,2)\n",
        "plt.plot(history.history['loss'])\n",
        "plt.plot(history.history['val_loss'])\n",
        "plt.title('model loss')\n",
        "plt.ylabel('loss')\n",
        "plt.xlabel('epoch')\n",
        "plt.legend(['train', 'test'], loc='upper right')\n",
        "\n",
        "plt.tight_layout()"
      ],
      "execution_count": 48,
      "outputs": [
        {
          "output_type": "display_data",
          "data": {
            "image/png": "[encoded data removed]",
            "text/plain": [
              "<Figure size 432x288 with 2 Axes>"
            ]
          },
          "metadata": {
            "tags": [],
            "needs_background": "light"
          }
        }
      ]
    },
    {
      "cell_type": "code",
      "metadata": {
        "id": "yTEfzc8NScyf"
      },
      "source": [
        "\n",
        "def eval_model(history, model):\n",
        "    batch_size = 32\n",
        "    score = model.evaluate(X_test, Y_test, steps=(int)(len(X_test) / batch_size))\n",
        "    print('Evaluation loss: ', score[0])\n",
        "    print('Evaluation accuracy: ', score[1])\n",
        "    # summarize history for accuracy\n",
        "    plt.plot(history.history['acc'], color='b', label='Training')\n",
        "    plt.plot(history.history['val_acc'], color='g', label='Validation')\n",
        "    plt.title('Accuracy')\n",
        "    plt.ylabel('accuracy')\n",
        "    plt.xlabel('epoch')\n",
        "    plt.legend(loc='upper left')\n",
        "    plt.show()\n",
        "\n",
        "    # summarize history for loss\n",
        "    plt.plot(history.history['loss'], color='b', label='Training')\n",
        "    plt.plot(history.history['val_loss'], color='g', label='Validation')\n",
        "    plt.title('model loss')\n",
        "    plt.ylabel('loss')\n",
        "    plt.xlabel('epoch')\n",
        "    plt.legend(loc='lower left')\n",
        "    plt.show()\n",
        "    y_pred = model.predict_classes(X_test)\n",
        "    y_true = np.asarray([np.argmax(i) for i in Y_test])\n",
        "\n",
        "    from sklearn.metrics import confusion_matrix\n",
        "    import seaborn as sns\n",
        "\n",
        "    cm = confusion_matrix(y_true, y_pred)\n",
        "    cm_normalised = cm.astype('float') / cm.sum(axis=1)[:, np.newaxis]\n",
        "    sns.set(font_scale=1.5) \n",
        "    fig, ax = plt.subplots(figsize=(10,10))\n",
        "    ax = sns.heatmap(cm_normalised, annot=True, linewidths=0, square=False, \n",
        "                        cmap=\"Greens\", yticklabels=labels, xticklabels=labels, vmin=0, vmax=np.max(cm_normalised), \n",
        "                        fmt=\".2f\", annot_kws={\"size\": 20})\n",
        "    ax.set(xlabel='Predicted label', ylabel='True label')"
      ],
      "execution_count": null,
      "outputs": []
    },
    {
      "cell_type": "code",
      "metadata": {
        "id": "F1kedkNbUNod",
        "outputId": "43584784-0f7b-4890-ad46-4de15d61619e",
        "colab": {
          "base_uri": "https://localhost:8080/",
          "height": 34
        }
      },
      "source": [
        "model.evaluate(validation_generator)\n",
        "model.save('/content/drive/My Drive/Dataset/final_ck_vgg16.hdf5')"
      ],
      "execution_count": 58,
      "outputs": [
        {
          "output_type": "stream",
          "text": [
            "49/49 [==============================] - 2s 48ms/step - loss: 0.2240 - accuracy: 0.9223\n"
          ],
          "name": "stdout"
        }
      ]
    },
    {
      "cell_type": "code",
      "metadata": {
        "id": "XrfgCCxMUPEd"
      },
      "source": [
        "model = load_model('/content/drive/My Drive/Dataset/final_ck_vgg16.hdf5')"
      ],
      "execution_count": 8,
      "outputs": []
    },
    {
      "cell_type": "code",
      "metadata": {
        "id": "tWjYWdrJUhvr",
        "outputId": "47e89048-c7ca-448c-a071-9e72a9a21aa3",
        "colab": {
          "base_uri": "https://localhost:8080/",
          "height": 51
        }
      },
      "source": [
        "model.evaluate(validation_generator)"
      ],
      "execution_count": 9,
      "outputs": [
        {
          "output_type": "stream",
          "text": [
            "49/49 [==============================] - 117s 2s/step - loss: 0.1931 - accuracy: 0.9119\n"
          ],
          "name": "stdout"
        },
        {
          "output_type": "execute_result",
          "data": {
            "text/plain": [
              "[0.1931011974811554, 0.9119170904159546]"
            ]
          },
          "metadata": {
            "tags": []
          },
          "execution_count": 9
        }
      ]
    },
    {
      "cell_type": "code",
      "metadata": {
        "id": "lnVQjKkMUyLn"
      },
      "source": [
        "y_test = []\n",
        "X_test = []\n",
        "for i in range(0,49):\n",
        "    X = validation_generator.__getitem__(i)[0]\n",
        "    Y = validation_generator.__getitem__(i)[1]\n",
        "    for y in Y:\n",
        "      y_test.append(np.argmax(y))\n",
        "    for x in X:\n",
        "      X_test.append(x)\n",
        "X_test = np.array(X_test)\n",
        "y_test = np.array(y_test)"
      ],
      "execution_count": 10,
      "outputs": []
    },
    {
      "cell_type": "code",
      "metadata": {
        "id": "b-sFglUQegzY",
        "outputId": "9066c568-0d94-4149-efac-67bbf74f5624",
        "colab": {
          "base_uri": "https://localhost:8080/",
          "height": 88
        }
      },
      "source": [
        "y_predict = model.predict_classes(X_test)"
      ],
      "execution_count": 11,
      "outputs": [
        {
          "output_type": "stream",
          "text": [
            "WARNING:tensorflow:From <ipython-input-11-e4f2425f2518>:1: Sequential.predict_classes (from tensorflow.python.keras.engine.sequential) is deprecated and will be removed after 2021-01-01.\n",
            "Instructions for updating:\n",
            "Please use instead:* `np.argmax(model.predict(x), axis=-1)`,   if your model does multi-class classification   (e.g. if it uses a `softmax` last-layer activation).* `(model.predict(x) > 0.5).astype(\"int32\")`,   if your model does binary classification   (e.g. if it uses a `sigmoid` last-layer activation).\n"
          ],
          "name": "stdout"
        }
      ]
    },
    {
      "cell_type": "code",
      "metadata": {
        "id": "OpiHvumhVUE4"
      },
      "source": [
        "# Plot confusion matrix \n",
        "from sklearn.metrics import confusion_matrix\n",
        "import seaborn as sns\n",
        "import matplotlib.pyplot as plt\n",
        "\n",
        "def create_confmat(true_labels, predicted_labels, columns, colour = 'Greens', size = (20,14)):\n",
        "    \n",
        "    cm = confusion_matrix(true_labels, predicted_labels) \n",
        "    cm_df = pd.DataFrame(cm,\n",
        "    index = [col for col in columns], \n",
        "    columns = [col for col in columns])\n",
        "    plt.figure(figsize=(18,16))\n",
        "    sns.heatmap(cm_df, annot = True, cmap = colour, fmt='g', linewidths=.2)\n",
        "    plt.title('Confusion Matrix', fontsize = 20)\n",
        "    plt.ylabel('True label', fontsize = 18)\n",
        "    plt.xlabel('Predicted label', fontsize = 18)\n",
        "    plt.tick_params(axis='both', labelsize=14)\n",
        "    plt.show()"
      ],
      "execution_count": 14,
      "outputs": []
    },
    {
      "cell_type": "code",
      "metadata": {
        "id": "vKbnNBE3VZLm",
        "outputId": "42ff309a-9f51-45fa-a411-ea4227e345ad",
        "colab": {
          "base_uri": "https://localhost:8080/",
          "height": 965
        }
      },
      "source": [
        "create_confmat(y_test , y_predict , ['anger' , 'contempt' , 'disgust' , 'fear' , 'happy' , 'sadness' , 'surprise'])"
      ],
      "execution_count": 15,
      "outputs": [
        {
          "output_type": "display_data",
          "data": {
            "image/png": "[encoded data removed]",
            "text/plain": [
              "<Figure size 1296x1152 with 2 Axes>"
            ]
          },
          "metadata": {
            "tags": [],
            "needs_background": "light"
          }
        }
      ]
    },
    {
      "cell_type": "code",
      "metadata": {
        "id": "1S4SVoLiV1rB",
        "outputId": "088df358-5e8c-4ca7-8657-aa7d5823520c",
        "colab": {
          "base_uri": "https://localhost:8080/",
          "height": 255
        }
      },
      "source": [
        "from sklearn.metrics import classification_report\n",
        "\n",
        "print(classification_report(y_test , y_predict))"
      ],
      "execution_count": 18,
      "outputs": [
        {
          "output_type": "stream",
          "text": [
            "              precision    recall  f1-score   support\n",
            "\n",
            "           0       0.77      0.85      0.81        27\n",
            "           1       1.00      0.90      0.95        10\n",
            "           2       0.95      1.00      0.97        35\n",
            "           3       0.87      0.87      0.87        15\n",
            "           4       0.98      1.00      0.99        41\n",
            "           5       0.87      0.81      0.84        16\n",
            "           6       1.00      0.92      0.96        49\n",
            "\n",
            "    accuracy                           0.93       193\n",
            "   macro avg       0.92      0.91      0.91       193\n",
            "weighted avg       0.93      0.93      0.93       193\n",
            "\n"
          ],
          "name": "stdout"
        }
      ]
    },
    {
      "cell_type": "code",
      "metadata": {
        "id": "X_j6PUYXjIbv"
      },
      "source": [
        ""
      ],
      "execution_count": null,
      "outputs": []
    }
  ]
}